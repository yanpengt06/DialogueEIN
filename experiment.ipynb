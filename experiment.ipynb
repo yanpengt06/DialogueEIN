{
 "cells": [
  {
   "cell_type": "code",
   "execution_count": 9,
   "metadata": {
    "collapsed": true,
    "pycharm": {
     "name": "#%%\n"
    }
   },
   "outputs": [
    {
     "name": "stdout",
     "output_type": "stream",
     "text": [
      "tensor([[1, 2, 0],\n",
      "        [4, 5, 6]])\n",
      "tensor([0, 1, 2])\n",
      "tensor([[False, False,  True],\n",
      "        [False, False, False]])\n"
     ]
    }
   ],
   "source": [
    "import torch\n",
    "\n",
    "def sequence_mask(X, valid_len, value=0):\n",
    "    \"\"\"在序列中屏蔽不相关的项\"\"\"\n",
    "    maxlen = X.size(1)\n",
    "    mask = torch.arange((maxlen), dtype=torch.float32, device=X.device)[None, :] < valid_len[:, None]\n",
    "    return ~mask\n",
    "\n",
    "a = torch.LongTensor([[1,2,0],[4,5,6]])\n",
    "print(a)\n",
    "print(torch.arange(3))\n",
    "print(sequence_mask(a, torch.LongTensor([2,3])))"
   ]
  },
  {
   "cell_type": "code",
   "execution_count": 22,
   "outputs": [
    {
     "name": "stdout",
     "output_type": "stream",
     "text": [
      "tensor([[[-0.5990],\n",
      "         [-1.4645]],\n",
      "\n",
      "        [[-2.1659],\n",
      "         [-0.9441]],\n",
      "\n",
      "        [[-0.6847],\n",
      "         [ 0.0220]]])\n",
      "tensor([[[-0.5990, -0.5990],\n",
      "         [-1.4645, -1.4645]],\n",
      "\n",
      "        [[-2.1659, -2.1659],\n",
      "         [-0.9441, -0.9441]],\n",
      "\n",
      "        [[-0.6847, -0.6847],\n",
      "         [ 0.0220,  0.0220]]])\n"
     ]
    }
   ],
   "source": [
    "import torch\n",
    "from torch import nn\n",
    "\n",
    "\n",
    "# ebd = nn.Embedding(3,5)\n",
    "# print(ebd.weight.shape)\n",
    "\n",
    "length = torch.LongTensor([4,2,3])\n",
    "\n",
    "a = torch.randn(3,2,1)\n",
    "print(a)\n",
    "b = torch.ones(1,2)\n",
    "\n",
    "print(torch.matmul(a, b.unsqueeze(0))) # broadcast"
   ],
   "metadata": {
    "collapsed": false,
    "pycharm": {
     "name": "#%%\n"
    }
   }
  },
  {
   "cell_type": "code",
   "execution_count": null,
   "outputs": [],
   "source": [],
   "metadata": {
    "collapsed": false,
    "pycharm": {
     "name": "#%%\n"
    }
   }
  }
 ],
 "metadata": {
  "kernelspec": {
   "display_name": "Python 3",
   "language": "python",
   "name": "python3"
  },
  "language_info": {
   "codemirror_mode": {
    "name": "ipython",
    "version": 2
   },
   "file_extension": ".py",
   "mimetype": "text/x-python",
   "name": "python",
   "nbconvert_exporter": "python",
   "pygments_lexer": "ipython2",
   "version": "2.7.6"
  }
 },
 "nbformat": 4,
 "nbformat_minor": 0
}